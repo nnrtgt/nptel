{
  "nbformat": 4,
  "nbformat_minor": 0,
  "metadata": {
    "colab": {
      "name": "Week4.ipynb",
      "provenance": [],
      "collapsed_sections": [],
      "authorship_tag": "ABX9TyNrPHU/NvZ81Db1CNXbpyLi",
      "include_colab_link": true
    },
    "kernelspec": {
      "name": "python3",
      "display_name": "Python 3"
    }
  },
  "cells": [
    {
      "cell_type": "markdown",
      "metadata": {
        "id": "view-in-github",
        "colab_type": "text"
      },
      "source": [
        "<a href=\"https://colab.research.google.com/github/nnrtgt/nptel/blob/master/Programming%2C%20Data%20Structures%20And%20Algorithms%20Using%20Python/Week4.ipynb\" target=\"_parent\"><img src=\"https://colab.research.google.com/assets/colab-badge.svg\" alt=\"Open In Colab\"/></a>"
      ]
    },
    {
      "cell_type": "code",
      "metadata": {
        "id": "jHFdoTxMKakx"
      },
      "source": [
        "def mystery(l):\n",
        "    if l == []:\n",
        "        return(l)\n",
        "    else:\n",
        "        return(mystery(l[1:])+l[:1])"
      ],
      "execution_count": null,
      "outputs": []
    },
    {
      "cell_type": "code",
      "metadata": {
        "id": "4R-JNx_AKiq2",
        "outputId": "d454b647-721a-42a6-b360-57fcf7726857",
        "colab": {
          "base_uri": "https://localhost:8080/",
          "height": 34
        }
      },
      "source": [
        "mystery([22,14,19,65,82,55])"
      ],
      "execution_count": null,
      "outputs": [
        {
          "output_type": "execute_result",
          "data": {
            "text/plain": [
              "[55, 82, 65, 19, 14, 22]"
            ]
          },
          "metadata": {
            "tags": []
          },
          "execution_count": 12
        }
      ]
    },
    {
      "cell_type": "code",
      "metadata": {
        "id": "Xwdw2XBwKx27",
        "outputId": "48e26404-3d2b-491a-ce4a-e04f776f9c46",
        "colab": {
          "base_uri": "https://localhost:8080/",
          "height": 34
        }
      },
      "source": [
        "pairs = [ (x,y) for x in range(4,1,-1) for y in range(5,1,-1) if (x+y)%3 == 0 ]\n",
        "\n",
        "print (pairs)\n"
      ],
      "execution_count": null,
      "outputs": [
        {
          "output_type": "stream",
          "text": [
            "[(4, 5), (4, 2), (3, 3), (2, 4)]\n"
          ],
          "name": "stdout"
        }
      ]
    },
    {
      "cell_type": "code",
      "metadata": {
        "id": "HxLet08vK9cQ",
        "outputId": "60b1bfd3-a7cf-45ce-aba4-66f1501552d6",
        "colab": {
          "base_uri": "https://localhost:8080/",
          "height": 34
        }
      },
      "source": [
        "wickets = {\"Tests\":{\"Kumble\":[3,5,2,3],\"Srinath\":[4,4,1,0],\"Prasad\":[2,1,7,4]},\"ODI\":{\"Kumble\":[2,0],\"Srinath\":[1,2]}}\n",
        "\n",
        "print(wickets)"
      ],
      "execution_count": null,
      "outputs": [
        {
          "output_type": "stream",
          "text": [
            "{'Tests': {'Kumble': [3, 5, 2, 3], 'Srinath': [4, 4, 1, 0], 'Prasad': [2, 1, 7, 4]}, 'ODI': {'Kumble': [2, 0], 'Srinath': [1, 2]}}\n"
          ],
          "name": "stdout"
        }
      ]
    },
    {
      "cell_type": "code",
      "metadata": {
        "id": "9QzQFfxaLDAI",
        "outputId": "fec2eb1f-d5e7-45e3-d550-b394371c1455",
        "colab": {
          "base_uri": "https://localhost:8080/",
          "height": 164
        }
      },
      "source": [
        "wickets[\"ODI\"][\"Prasad\"] = wickets[\"ODI\"][\"Prasad\"] + [4,4]"
      ],
      "execution_count": null,
      "outputs": [
        {
          "output_type": "error",
          "ename": "KeyError",
          "evalue": "ignored",
          "traceback": [
            "\u001b[0;31m---------------------------------------------------------------------------\u001b[0m",
            "\u001b[0;31mKeyError\u001b[0m                                  Traceback (most recent call last)",
            "\u001b[0;32m<ipython-input-17-a2200606f518>\u001b[0m in \u001b[0;36m<module>\u001b[0;34m()\u001b[0m\n\u001b[0;32m----> 1\u001b[0;31m \u001b[0mwickets\u001b[0m\u001b[0;34m[\u001b[0m\u001b[0;34m\"ODI\"\u001b[0m\u001b[0;34m]\u001b[0m\u001b[0;34m[\u001b[0m\u001b[0;34m\"Prasad\"\u001b[0m\u001b[0;34m]\u001b[0m \u001b[0;34m=\u001b[0m \u001b[0mwickets\u001b[0m\u001b[0;34m[\u001b[0m\u001b[0;34m\"ODI\"\u001b[0m\u001b[0;34m]\u001b[0m\u001b[0;34m[\u001b[0m\u001b[0;34m\"Prasad\"\u001b[0m\u001b[0;34m]\u001b[0m \u001b[0;34m+\u001b[0m \u001b[0;34m[\u001b[0m\u001b[0;36m4\u001b[0m\u001b[0;34m,\u001b[0m\u001b[0;36m4\u001b[0m\u001b[0;34m]\u001b[0m\u001b[0;34m\u001b[0m\u001b[0;34m\u001b[0m\u001b[0m\n\u001b[0m",
            "\u001b[0;31mKeyError\u001b[0m: 'Prasad'"
          ]
        }
      ]
    },
    {
      "cell_type": "code",
      "metadata": {
        "id": "u1V1vYX7LLFm"
      },
      "source": [
        "wickets[\"ODI\"][\"Prasad\"] = [4,4]"
      ],
      "execution_count": null,
      "outputs": []
    },
    {
      "cell_type": "code",
      "metadata": {
        "id": "_ZDNeEIztEkH",
        "outputId": "caad4928-a61e-4401-8573-0957f2aabb7c",
        "colab": {
          "base_uri": "https://localhost:8080/",
          "height": 34
        }
      },
      "source": [
        "sorted({1: 'D', 2: 'B', 3: 'B', 4: 'E', 5: 'A'})"
      ],
      "execution_count": null,
      "outputs": [
        {
          "output_type": "execute_result",
          "data": {
            "text/plain": [
              "[1, 2, 3, 4, 5]"
            ]
          },
          "metadata": {
            "tags": []
          },
          "execution_count": 89
        }
      ]
    },
    {
      "cell_type": "code",
      "metadata": {
        "id": "1-JdyPQBt_Kv",
        "outputId": "aebe811b-b980-4dc3-f9fc-516fa1d9cdaf",
        "colab": {
          "base_uri": "https://localhost:8080/",
          "height": 34
        }
      },
      "source": [
        "student_tuples = [\n",
        "    ('john', 'A', 15),\n",
        "    ('jane', 'B', 12),\n",
        "    ('dave', 'B', 10),\n",
        "]\n",
        "sorted(student_tuples, key=lambda student: student[2]) "
      ],
      "execution_count": null,
      "outputs": [
        {
          "output_type": "execute_result",
          "data": {
            "text/plain": [
              "[('dave', 'B', 10), ('jane', 'B', 12), ('john', 'A', 15)]"
            ]
          },
          "metadata": {
            "tags": []
          },
          "execution_count": 103
        }
      ]
    },
    {
      "cell_type": "code",
      "metadata": {
        "id": "E53W54v2LLE9"
      },
      "source": [
        "hundreds = {}"
      ],
      "execution_count": null,
      "outputs": []
    },
    {
      "cell_type": "code",
      "metadata": {
        "id": "Syz_zkqyLSb1"
      },
      "source": [
        "hundreds[\"Tendulkar, international\"] = 100\n"
      ],
      "execution_count": null,
      "outputs": []
    },
    {
      "cell_type": "code",
      "metadata": {
        "id": "D6xaW3nyLZtD"
      },
      "source": [
        "hundreds[\"Tendulkar\"] = {\"international\":100}"
      ],
      "execution_count": null,
      "outputs": []
    },
    {
      "cell_type": "code",
      "metadata": {
        "id": "RBT3WHh3LeYI"
      },
      "source": [
        "hundreds[(\"Tendulkar\",\"international\")] = 100"
      ],
      "execution_count": null,
      "outputs": []
    },
    {
      "cell_type": "code",
      "metadata": {
        "id": "69i4Qzr9LjB1",
        "outputId": "83013a1f-2b3b-4889-ec23-923af4e1a8c0",
        "colab": {
          "base_uri": "https://localhost:8080/",
          "height": 164
        }
      },
      "source": [
        "hundreds[[\"Tendulkar\",\"international\"]] = 100"
      ],
      "execution_count": null,
      "outputs": [
        {
          "output_type": "error",
          "ename": "TypeError",
          "evalue": "ignored",
          "traceback": [
            "\u001b[0;31m---------------------------------------------------------------------------\u001b[0m",
            "\u001b[0;31mTypeError\u001b[0m                                 Traceback (most recent call last)",
            "\u001b[0;32m<ipython-input-23-ec112447a4ff>\u001b[0m in \u001b[0;36m<module>\u001b[0;34m()\u001b[0m\n\u001b[0;32m----> 1\u001b[0;31m \u001b[0mhundreds\u001b[0m\u001b[0;34m[\u001b[0m\u001b[0;34m[\u001b[0m\u001b[0;34m\"Tendulkar\"\u001b[0m\u001b[0;34m,\u001b[0m\u001b[0;34m\"international\"\u001b[0m\u001b[0;34m]\u001b[0m\u001b[0;34m]\u001b[0m \u001b[0;34m=\u001b[0m \u001b[0;36m100\u001b[0m\u001b[0;34m\u001b[0m\u001b[0;34m\u001b[0m\u001b[0m\n\u001b[0m",
            "\u001b[0;31mTypeError\u001b[0m: unhashable type: 'list'"
          ]
        }
      ]
    },
    {
      "cell_type": "code",
      "metadata": {
        "id": "gurmbXely9xs",
        "outputId": "c447cc91-79c2-48bb-dcdd-57eb8599f31d",
        "colab": {
          "base_uri": "https://localhost:8080/",
          "height": 34
        }
      },
      "source": [
        "x = lambda a, b, c : a + b + c\n",
        "print(x(5, 6, 2))\n",
        "\n"
      ],
      "execution_count": null,
      "outputs": [
        {
          "output_type": "stream",
          "text": [
            "13\n"
          ],
          "name": "stdout"
        }
      ]
    },
    {
      "cell_type": "markdown",
      "metadata": {
        "id": "X_0c0I1BztsP"
      },
      "source": [
        " Write a Python function frequency(l) that takes as input a list of integers and returns a pair of the form (minfreqlist,maxfreqlist) where\n",
        "\n",
        "    minfreqlist is a list of numbers with minimum frequency in l, sorted in ascending order\n",
        "    maxfreqlist is a list of numbers with maximum frequency in l, sorted in ascending order \n",
        "\n",
        "Here are some examples of how your function should work.\n",
        "\n",
        ">>> frequency([13,12,11,13,14,13,7,11,13,14,12])\n",
        "([7], [13])\n",
        "\n",
        ">>> frequency([13,12,11,13,14,13,7,11,13,14,12,14,14])\n",
        "([7], [13, 14])\n",
        "\n",
        ">>> frequency([13,12,11,13,14,13,7,11,13,14,12,14,14,7])\n",
        "([7, 11, 12], [13, 14])\n",
        "\n"
      ]
    },
    {
      "cell_type": "code",
      "metadata": {
        "id": "4eHFDKNqL0Jv"
      },
      "source": [
        "def frequency(l):\n",
        "  l.sort()  # sorting the given list, for efficiency\n",
        "  freq = [] # Empty List to store the number and corresponding frequency\n",
        "  \n",
        "  i = 0\n",
        "  # traversing through the given list and calculating the frequency of occurence\n",
        "  while (i < len(l)):\n",
        "    # if it is in the list, it is at least once in the list, starting with 1\n",
        "    frequency = 1;\n",
        "    k = i + 1\n",
        "    while (k < len(l)):\n",
        "      if (l[i] == l[k]):\n",
        "        frequency +=1\n",
        "        k += 1\n",
        "      else:\n",
        "        break\n",
        "    # numbers.append(l[i])\n",
        "    freq.append((l[i],frequency))\n",
        "    i = i + frequency\n",
        "\n",
        "  # now generate min freqlist, sorting the list based on frequency (ascending)\n",
        "  freq = sorted(freq, key=lambda line: line[1])\n",
        "  i=0\n",
        "  f = freq[0][1]\n",
        "  minfreqlist = []\n",
        "  while (i < len(freq) and f == freq[i][1]):\n",
        "    minfreqlist.append (freq[i][0])\n",
        "    i +=1\n",
        "\n",
        "  # now generate max freqlist, sorting the list based on frequency (descending)\n",
        "  freq = sorted(freq, key=lambda line: line[1],reverse=True)\n",
        "  i=0\n",
        "  f = freq[0][1]\n",
        "  maxfreqlist = []\n",
        "  while (i < len(freq) and f == freq[i][1]):\n",
        "    maxfreqlist.append (freq[i][0])\n",
        "    i +=1\n",
        "  return ((minfreqlist, maxfreqlist))\n",
        "\n",
        "  \n"
      ],
      "execution_count": null,
      "outputs": []
    },
    {
      "cell_type": "code",
      "metadata": {
        "id": "BpWbuNPwzalY",
        "outputId": "57b05e36-ab5e-412e-a823-68575b9266bb",
        "colab": {
          "base_uri": "https://localhost:8080/",
          "height": 35
        }
      },
      "source": [
        "frequency([1,1,1,1,1])"
      ],
      "execution_count": null,
      "outputs": [
        {
          "output_type": "execute_result",
          "data": {
            "text/plain": [
              "([1], [1])"
            ]
          },
          "metadata": {
            "tags": []
          },
          "execution_count": 17
        }
      ]
    },
    {
      "cell_type": "code",
      "metadata": {
        "id": "sGxuMtg5NPf_",
        "outputId": "38b3dbc7-16eb-482d-b46b-2ebc714695df",
        "colab": {
          "base_uri": "https://localhost:8080/",
          "height": 35
        }
      },
      "source": [
        "frequency([13,12,11,13,14,13,7,11,7, 7, 7,13,14,12])"
      ],
      "execution_count": null,
      "outputs": [
        {
          "output_type": "execute_result",
          "data": {
            "text/plain": [
              "[[11, 12, 14], [7, 13]]"
            ]
          },
          "metadata": {
            "tags": []
          },
          "execution_count": 10
        }
      ]
    },
    {
      "cell_type": "code",
      "metadata": {
        "id": "BmcNML5VL3KM",
        "outputId": "d2d7e9b5-04e4-43cf-91d4-97f11d93e7b0",
        "colab": {
          "base_uri": "https://localhost:8080/",
          "height": 35
        }
      },
      "source": [
        "frequency([13,12,11,13,14,13,7,11,13,14,12,14,14])"
      ],
      "execution_count": null,
      "outputs": [
        {
          "output_type": "execute_result",
          "data": {
            "text/plain": [
              "[[7], [13, 14]]"
            ]
          },
          "metadata": {
            "tags": []
          },
          "execution_count": 11
        }
      ]
    },
    {
      "cell_type": "code",
      "metadata": {
        "id": "WGiTCSqGL9xD",
        "outputId": "24aa6925-fa56-4ef2-db0c-c62c65e9a770",
        "colab": {
          "base_uri": "https://localhost:8080/",
          "height": 35
        }
      },
      "source": [
        "frequency([13,12,11,13,14,13,7,11,13,14,12,14,14,7])"
      ],
      "execution_count": null,
      "outputs": [
        {
          "output_type": "execute_result",
          "data": {
            "text/plain": [
              "[[7, 11, 12], [13, 14]]"
            ]
          },
          "metadata": {
            "tags": []
          },
          "execution_count": 12
        }
      ]
    },
    {
      "cell_type": "markdown",
      "metadata": {
        "id": "uv5Zcirjz3-0"
      },
      "source": [
        "An airline has assigned each city that it serves a unique numeric code. It has collected information about all the direct flights it operates, represented as a list of pairs of the form (i,j), where i is the code of the starting city and j is the code of the destination.\n",
        "\n",
        "It now wants to compute all pairs of cities connected by one intermediate hope — city i is connected to city j by one intermediate hop if there are direct flights of the form (i,k) and (k,j) for some other city k. The airline is only interested in one hop flights between different cities — pairs of the form (i,i) are not useful.\n",
        "\n",
        "Write a Python function onehop(l) that takes as input a list of pairs representing direct flights, as described above, and returns a list of all pairs (i,j), where i != j, such that i and j are connected by one hop. Note that it may already be the case that there is a direct flight from i to j. So long as there is an intermediate k with a flight from i to k and from k to j, the list returned by the function should include (i,j). The input list may be in any order. The pairs in the output list should be in lexicographic (dictionary) order. Each pair should be listed exactly once.\n",
        "\n",
        "Here are some examples of how your function should work.\n",
        "\n",
        " \n",
        ">>> onehop([(2,3),(1,2)])\n",
        "\n",
        "[(1, 3)]\n",
        "\n",
        ">>> onehop([(2,3),(1,2),(3,1),(1,3),(3,2),(2,4),(4,1)])\n",
        "\n",
        "[(1, 2), (1, 3), (1, 4), (2, 1), (3, 2), (3, 4), (4, 2), (4, 3)]\n",
        "\n",
        ">>> onehop([(1,2),(3,4),(5,6)])\n",
        "\n",
        "[]\n",
        "\n"
      ]
    },
    {
      "cell_type": "markdown",
      "metadata": {
        "id": "uvWjfU0SszOd"
      },
      "source": [
        "Understanding of the problem:\n",
        "\n",
        "1.   pair should be made with different cities/numbers e.g., (i,i) is not allowed\n",
        "2.   only one hop meaning (i, j) is possible only if (i,k) and (k, j) exists\n",
        "3.   input list contains different pairs\n",
        "4.   sort the list for lexicographic order\n",
        "5.   Each pair should be listed exactly once (unique pairs)\n",
        "6.   even if there is a direct flight between (i,j) it need to be listed if there is a one hop like in (i,k) and (k,j) and even if (i,j) is in the input already\n",
        "\n",
        "Logic:\n",
        "\n",
        "\n",
        "1.   First sort the given list\n",
        "2.   Outer loop to traverse through the entire list, taking one pair at a time\n",
        "3.   Inner loop to traverse through the remainder of the list\n",
        "4.   (i,k) and (k,j) - 2nd element of first pair and 1st element of second pair is same make pair using first element of first pair and 2nd element of second pair meaning (i, j)\n",
        "5.   about other combinations: (k, i) and (j, k) if we sort  \n",
        "(k, i) and (j, k)\n",
        "\n",
        "\n",
        "\n",
        "\n",
        "\n",
        "\n",
        "\n",
        "\n",
        "\n",
        "\n",
        "\n",
        "\n"
      ]
    },
    {
      "cell_type": "code",
      "metadata": {
        "id": "DXTwFi9mz25c",
        "outputId": "d616510c-5a19-4c8f-c56e-08f83287385e",
        "colab": {
          "base_uri": "https://localhost:8080/",
          "height": 53
        }
      },
      "source": [
        "def onehop(l):\n",
        "  l.sort()\n",
        "  outputpairs = []\n",
        "  for i in l:\n",
        "    n1 = i[0]\n",
        "    n2 = i[1]\n",
        "    j = 1\n",
        "    while (j < len(l)):\n",
        "      if (n2 == l[j][0]   and n1 != l[j][1]):\n",
        "        newpair = (n1, l[j][1])\n",
        "        if (newpair not in outputpairs):\n",
        "          outputpairs.append(newpair)\n",
        "      if (n1 == l[j][1] and n2 != l[j][0]):\n",
        "        newpair = (l[j][0],n2)\n",
        "        if (newpair not in outputpairs):\n",
        "          outputpairs.append(newpair)\n",
        "\n",
        "      j += 1\n",
        "  outputpairs.sort()\n",
        "  return(outputpairs)\n",
        "\n",
        "\n",
        "\n",
        "# onehop([(2,3),(1,2)])\n",
        "# onehop([(2,3),(1,2),(3,1),(1,3),(3,2),(2,4),(4,1)])\n",
        "# [(1, 2), (1, 3), (1, 4), (2, 1), (3, 2), (3, 4), (4, 2), (4, 3)]\n",
        "# onehop([(1,2),(3,4),(5,6)])\n",
        "\n",
        "onehop([(1,2),(2,1)])"
      ],
      "execution_count": 29,
      "outputs": [
        {
          "output_type": "stream",
          "text": [
            "[(1, 2), (2, 1)]\n"
          ],
          "name": "stdout"
        },
        {
          "output_type": "execute_result",
          "data": {
            "text/plain": [
              "[]"
            ]
          },
          "metadata": {
            "tags": []
          },
          "execution_count": 29
        }
      ]
    },
    {
      "cell_type": "code",
      "metadata": {
        "id": "k4pqUgIXqnvf"
      },
      "source": [
        ""
      ],
      "execution_count": null,
      "outputs": []
    }
  ]
}