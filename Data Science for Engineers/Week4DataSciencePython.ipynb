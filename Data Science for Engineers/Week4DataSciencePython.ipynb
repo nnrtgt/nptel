{
  "nbformat": 4,
  "nbformat_minor": 0,
  "metadata": {
    "colab": {
      "name": "Week4DataSciencePython.ipynb",
      "provenance": [],
      "collapsed_sections": [],
      "authorship_tag": "ABX9TyNF2AQhbbFe7nE6uvGvQR2B",
      "include_colab_link": true
    },
    "kernelspec": {
      "name": "python3",
      "display_name": "Python 3"
    }
  },
  "cells": [
    {
      "cell_type": "markdown",
      "metadata": {
        "id": "view-in-github",
        "colab_type": "text"
      },
      "source": [
        "<a href=\"https://colab.research.google.com/github/nnrtgt/nptel/blob/master/Data%20Science%20for%20Engineers/Week4DataSciencePython.ipynb\" target=\"_parent\"><img src=\"https://colab.research.google.com/assets/colab-badge.svg\" alt=\"Open In Colab\"/></a>"
      ]
    },
    {
      "cell_type": "code",
      "metadata": {
        "id": "5fb1IbcoGqlV",
        "outputId": "137a4c52-6c26-4808-a452-725b07258a4f",
        "colab": {
          "base_uri": "https://localhost:8080/",
          "height": 35
        }
      },
      "source": [
        "import pandas as pd\n",
        "from google.colab import drive\n",
        "\n",
        "drive.mount('/content/gdrive')\n",
        "\n"
      ],
      "execution_count": null,
      "outputs": [
        {
          "output_type": "stream",
          "text": [
            "Mounted at /content/gdrive\n"
          ],
          "name": "stdout"
        }
      ]
    },
    {
      "cell_type": "code",
      "metadata": {
        "id": "IMLv2-EgKr5T"
      },
      "source": [
        "!ls '/content/gdrive/My Drive'"
      ],
      "execution_count": null,
      "outputs": []
    },
    {
      "cell_type": "code",
      "metadata": {
        "id": "32Wthg6YLPaH"
      },
      "source": [
        "df = pd.read_excel('CreditWorthiness.xlsx',sheet_name=2)"
      ],
      "execution_count": null,
      "outputs": []
    },
    {
      "cell_type": "code",
      "metadata": {
        "id": "Q85O6_96k6DO",
        "outputId": "17b488e3-b0f5-4d5c-ac2e-3536d0a721e9",
        "colab": {
          "base_uri": "https://localhost:8080/",
          "height": 300
        }
      },
      "source": [
        "df.describe()"
      ],
      "execution_count": null,
      "outputs": [
        {
          "output_type": "execute_result",
          "data": {
            "text/html": [
              "<div>\n",
              "<style scoped>\n",
              "    .dataframe tbody tr th:only-of-type {\n",
              "        vertical-align: middle;\n",
              "    }\n",
              "\n",
              "    .dataframe tbody tr th {\n",
              "        vertical-align: top;\n",
              "    }\n",
              "\n",
              "    .dataframe thead th {\n",
              "        text-align: right;\n",
              "    }\n",
              "</style>\n",
              "<table border=\"1\" class=\"dataframe\">\n",
              "  <thead>\n",
              "    <tr style=\"text-align: right;\">\n",
              "      <th></th>\n",
              "      <th>Cdur</th>\n",
              "      <th>Camt</th>\n",
              "      <th>InRate</th>\n",
              "      <th>age</th>\n",
              "      <th>NumCred</th>\n",
              "      <th>Ndepend</th>\n",
              "    </tr>\n",
              "  </thead>\n",
              "  <tbody>\n",
              "    <tr>\n",
              "      <th>count</th>\n",
              "      <td>1000.000000</td>\n",
              "      <td>1000.00000</td>\n",
              "      <td>1000.000000</td>\n",
              "      <td>1000.000000</td>\n",
              "      <td>1000.000000</td>\n",
              "      <td>1000.000000</td>\n",
              "    </tr>\n",
              "    <tr>\n",
              "      <th>mean</th>\n",
              "      <td>20.903000</td>\n",
              "      <td>32592.58000</td>\n",
              "      <td>2.973000</td>\n",
              "      <td>35.546000</td>\n",
              "      <td>1.407000</td>\n",
              "      <td>1.155000</td>\n",
              "    </tr>\n",
              "    <tr>\n",
              "      <th>std</th>\n",
              "      <td>12.058814</td>\n",
              "      <td>28227.36876</td>\n",
              "      <td>1.118715</td>\n",
              "      <td>11.375469</td>\n",
              "      <td>0.577654</td>\n",
              "      <td>0.362086</td>\n",
              "    </tr>\n",
              "    <tr>\n",
              "      <th>min</th>\n",
              "      <td>4.000000</td>\n",
              "      <td>2380.00000</td>\n",
              "      <td>1.000000</td>\n",
              "      <td>19.000000</td>\n",
              "      <td>1.000000</td>\n",
              "      <td>1.000000</td>\n",
              "    </tr>\n",
              "    <tr>\n",
              "      <th>25%</th>\n",
              "      <td>12.000000</td>\n",
              "      <td>13535.00000</td>\n",
              "      <td>2.000000</td>\n",
              "      <td>27.000000</td>\n",
              "      <td>1.000000</td>\n",
              "      <td>1.000000</td>\n",
              "    </tr>\n",
              "    <tr>\n",
              "      <th>50%</th>\n",
              "      <td>18.000000</td>\n",
              "      <td>23075.00000</td>\n",
              "      <td>3.000000</td>\n",
              "      <td>33.000000</td>\n",
              "      <td>1.000000</td>\n",
              "      <td>1.000000</td>\n",
              "    </tr>\n",
              "    <tr>\n",
              "      <th>75%</th>\n",
              "      <td>24.000000</td>\n",
              "      <td>39602.50000</td>\n",
              "      <td>4.000000</td>\n",
              "      <td>42.000000</td>\n",
              "      <td>2.000000</td>\n",
              "      <td>1.000000</td>\n",
              "    </tr>\n",
              "    <tr>\n",
              "      <th>max</th>\n",
              "      <td>72.000000</td>\n",
              "      <td>184120.00000</td>\n",
              "      <td>4.000000</td>\n",
              "      <td>75.000000</td>\n",
              "      <td>4.000000</td>\n",
              "      <td>2.000000</td>\n",
              "    </tr>\n",
              "  </tbody>\n",
              "</table>\n",
              "</div>"
            ],
            "text/plain": [
              "              Cdur          Camt  ...      NumCred      Ndepend\n",
              "count  1000.000000    1000.00000  ...  1000.000000  1000.000000\n",
              "mean     20.903000   32592.58000  ...     1.407000     1.155000\n",
              "std      12.058814   28227.36876  ...     0.577654     0.362086\n",
              "min       4.000000    2380.00000  ...     1.000000     1.000000\n",
              "25%      12.000000   13535.00000  ...     1.000000     1.000000\n",
              "50%      18.000000   23075.00000  ...     1.000000     1.000000\n",
              "75%      24.000000   39602.50000  ...     2.000000     1.000000\n",
              "max      72.000000  184120.00000  ...     4.000000     2.000000\n",
              "\n",
              "[8 rows x 6 columns]"
            ]
          },
          "metadata": {
            "tags": []
          },
          "execution_count": 24
        }
      ]
    },
    {
      "cell_type": "code",
      "metadata": {
        "id": "GpFpdsmnlUKP",
        "outputId": "61fd9327-99bb-4cef-a8d5-45ca40d56703",
        "colab": {
          "base_uri": "https://localhost:8080/",
          "height": 526
        }
      },
      "source": [
        "df.info()"
      ],
      "execution_count": null,
      "outputs": [
        {
          "output_type": "stream",
          "text": [
            "<class 'pandas.core.frame.DataFrame'>\n",
            "RangeIndex: 1000 entries, 0 to 999\n",
            "Data columns (total 21 columns):\n",
            " #   Column       Non-Null Count  Dtype \n",
            "---  ------       --------------  ----- \n",
            " 0   Cbal         1000 non-null   object\n",
            " 1   Cdur         1000 non-null   int64 \n",
            " 2   Chist        1000 non-null   object\n",
            " 3   Cpur         1000 non-null   object\n",
            " 4   Camt         1000 non-null   int64 \n",
            " 5   Sbal         1000 non-null   object\n",
            " 6   Edur         1000 non-null   object\n",
            " 7   InRate       1000 non-null   int64 \n",
            " 8   MSG          1000 non-null   object\n",
            " 9   Oparties     1000 non-null   object\n",
            " 10  Rdur         1000 non-null   object\n",
            " 11  Prop         1000 non-null   object\n",
            " 12  age          1000 non-null   int64 \n",
            " 13  inPlans      1000 non-null   object\n",
            " 14  Htype        1000 non-null   object\n",
            " 15  NumCred      1000 non-null   int64 \n",
            " 16  JobType      1000 non-null   object\n",
            " 17  Ndepend      1000 non-null   int64 \n",
            " 18  telephone    1000 non-null   object\n",
            " 19  foreign      1000 non-null   object\n",
            " 20  creditScore  1000 non-null   object\n",
            "dtypes: int64(6), object(15)\n",
            "memory usage: 164.2+ KB\n"
          ],
          "name": "stdout"
        }
      ]
    },
    {
      "cell_type": "code",
      "metadata": {
        "id": "Q9zzp8FTLemQ",
        "outputId": "9936d375-0c26-4df0-e7d4-e6d49d5ec722",
        "colab": {
          "base_uri": "https://localhost:8080/",
          "height": 35
        }
      },
      "source": [
        "cd '/content/gdrive/My Drive'"
      ],
      "execution_count": null,
      "outputs": [
        {
          "output_type": "stream",
          "text": [
            "/content/gdrive/My Drive\n"
          ],
          "name": "stdout"
        }
      ]
    }
  ]
}