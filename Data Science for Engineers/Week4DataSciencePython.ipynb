{
  "nbformat": 4,
  "nbformat_minor": 0,
  "metadata": {
    "colab": {
      "name": "Week4DataSciencePython.ipynb",
      "provenance": [],
      "authorship_tag": "ABX9TyNF2AQhbbFe7nE6uvGvQR2B",
      "include_colab_link": true
    },
    "kernelspec": {
      "name": "python3",
      "display_name": "Python 3"
    }
  },
  "cells": [
    {
      "cell_type": "markdown",
      "metadata": {
        "id": "view-in-github",
        "colab_type": "text"
      },
      "source": [
        "<a href=\"https://colab.research.google.com/github/nnrtgt/nptel/blob/master/Data%20Science%20for%20Engineers/Week4DataSciencePython.ipynb\" target=\"_parent\"><img src=\"https://colab.research.google.com/assets/colab-badge.svg\" alt=\"Open In Colab\"/></a>"
      ]
    },
    {
      "cell_type": "code",
      "metadata": {
        "id": "5fb1IbcoGqlV",
        "outputId": "137a4c52-6c26-4808-a452-725b07258a4f",
        "colab": {
          "base_uri": "https://localhost:8080/",
          "height": 35
        }
      },
      "source": [
        "import pandas as pd\n",
        "from google.colab import drive\n",
        "\n",
        "drive.mount('/content/gdrive')\n",
        "\n"
      ],
      "execution_count": 9,
      "outputs": [
        {
          "output_type": "stream",
          "text": [
            "Mounted at /content/gdrive\n"
          ],
          "name": "stdout"
        }
      ]
    },
    {
      "cell_type": "code",
      "metadata": {
        "id": "IMLv2-EgKr5T",
        "outputId": "839a387e-91d4-412a-b374-921bccfd6d10",
        "colab": {
          "base_uri": "https://localhost:8080/",
          "height": 1000
        }
      },
      "source": [
        "!ls '/content/gdrive/My Drive'"
      ],
      "execution_count": 12,
      "outputs": [
        {
          "output_type": "stream",
          "text": [
            " 1575204326849.png\n",
            "'after school discussion.aac'\n",
            "'Ananya Balanced diet.aac'\n",
            "'Ananya hanumanchalisa video.mp4'\n",
            "'Ananya thillaana video.mp4'\n",
            " Audible\n",
            "'Bajaj Motor Policy28.pdf'\n",
            "'BajajRenewalReceipt June2020.pdf'\n",
            "'BBMP Receipt_201709948_14_05_2020.pdf'\n",
            "'behavior high.aac'\n",
            "'behavior low.aac'\n",
            "'behavior medium.aac'\n",
            "'Boduppal House Property Tax .jpg'\n",
            "'Cake pics'\n",
            "'Cascading madows'\n",
            "'case codung clarification.aac'\n",
            " CCPA.aac\n",
            "'class 6 chapter 6major landforms of the earth.aac'\n",
            "'class 6 chapter 7 our country _ India.aac'\n",
            " Classroom\n",
            "'Colab Notebooks'\n",
            " complaints.csv\n",
            " complaints.csv.zip\n",
            "'\"Consumer_Complaints.csv\".gsheet'\n",
            "'Copy of Trivia Game Multiple Choice.gsheet'\n",
            " CreditWorthiness.xlsx\n",
            "'crm and innovation.aac'\n",
            " dietician.aac\n",
            "'Doctor .aac'\n",
            " Doctor.aac\n",
            "'Doctor consultancy for Ananya 3rd Aug 2018.aac'\n",
            "'Epson iPrint'\n",
            " Feedback\n",
            " feedback.aac\n",
            "'feedback mete.aac'\n",
            "'GCP PART1.aac'\n",
            "'Getting started.pdf'\n",
            " goals.aac\n",
            "'goals take2.aac'\n",
            " golang.aac\n",
            "'grade 4 general science chapter 8 force work and energy.aac'\n",
            "'grade 6 biology unit 4 rocks and fossils.aac'\n",
            "'grade 6 English future time.aac'\n",
            "'GRADE 7 PORTIONS-TEE.pdf'\n",
            "'HBR must read top 10 leadership.pdf'\n",
            "'HDFC ERGO CAR INSURANCE 2020-2021 2311100778747700.pdf'\n",
            " Health\n",
            " Healthifyme\n",
            " hen.aac\n",
            "'Hindi 1.aac'\n",
            "'Hindi class 6 lesson 1.aac'\n",
            " ifct-doc.pdf\n",
            " IMG_20200116_071138.jpg\n",
            " IMG_20200812_132818.jpg\n",
            " IMG_20200812_132825.jpg\n",
            " IMG_20200812_132842.jpg\n",
            " IMG_20200812_132846.jpg\n",
            " IMG_20200812_132849.jpg\n",
            " IMG_20200812_132919.jpg\n",
            " IMG_20200812_132923.jpg\n",
            " IMG_20200812_132942.jpg\n",
            "'Innovation 1.aac'\n",
            "'innovation 2.aac'\n",
            "'Krishna bird.aac'\n",
            "'Krishna Hindi 1.aac'\n",
            "'Krishna Hindi 2.aac'\n",
            "'Krishna hindi.aac'\n",
            "'krishna willy.aac'\n",
            " Lesson.aac\n",
            "'LMH 10th Class .gmap'\n",
            " Messagebackup.json\n",
            "'Microsoft Product Guide.pdf'\n",
            "'morning musing.aac'\n",
            " mpst_full_data.csv.gsheet\n",
            "'Multi Class Text Classification'\n",
            "'multiplier B071VCKP17.pdf'\n",
            "'Narasimharao Nakarikanti.pdf'\n",
            "'new app idea.aac'\n",
            "'New Doc 2019-11-02.jpg'\n",
            "'nnr hindi.aac'\n",
            "'NPTEL Applied NLP'\n",
            "'NPTEL Data Science for Engineers'\n",
            " Oltmpiad\n",
            "'other integrations.aac'\n",
            " personal.ml.gsite\n",
            " pitching.aac\n",
            "'praxis chatter api.aac'\n",
            "'Principal EM JD.pdf'\n",
            " Rama.aac\n",
            "'Ramu .aac'\n",
            "'Record-001 feedback team retro.aac'\n",
            " Record-002.aac\n",
            "'Record-003 chatbot.aac'\n",
            " Record-004.aac\n",
            " Record-005.aac\n",
            " Record-005hen.aac\n",
            " Record-006.aac\n",
            "'Record-006krishnas first story.aac'\n",
            "'Record-006krshna voic.aac'\n",
            " Record-007.aac\n",
            " Record-008.aac\n",
            " Record-009.aac\n",
            " Record-010.aac\n",
            " Record-011.aac\n",
            " Record-012.aac\n",
            " Record-013.aac\n",
            " Record-014.aac\n",
            " Record-015.aac\n",
            " Record-016.aac\n",
            " Record-017.aac\n",
            " Record-018.aac\n",
            " Record-019.aac\n",
            " Record-021.aac\n",
            " Record-022.aac\n",
            " Record-024.aac\n",
            " Record-025.aac\n",
            " Record-026.aac\n",
            " Record-028.aac\n",
            " Record-029.aac\n",
            " Record-030.aac\n",
            " Record-031.aac\n",
            " Record-032.aac\n",
            " Record-034.aac\n",
            " Record-035.aac\n",
            " Record-036.aac\n",
            " Record-037.aac\n",
            " Record-038.aac\n",
            " Record-039.aac\n",
            "'Record-039 Akanksha.aac'\n",
            " Record-040.aac\n",
            "'Record-040 Deepa Malik.aac'\n",
            "'Record-040 Krishna song.aac'\n",
            " Record-041.aac\n",
            "'Record-041 Krishna try everything.aac'\n",
            " Record-042.aac\n",
            " Record-043.aac\n",
            " Record-044.aac\n",
            " Record-045.aac\n",
            " Record-046.aac\n",
            " Record-047.aac\n",
            " Record-048.aac\n",
            " Record-049.aac\n",
            " Recording\n",
            " Recruit.aac\n",
            "'rocks and fossils.aac'\n",
            "'Salesforce 1.aac'\n",
            " Salesforce.aac\n",
            " Sample.gscript\n",
            " Screencastify\n",
            " servicenow.aac\n",
            " Sharadhi.aac\n",
            " strategy.aac\n",
            " tc-for-amazon-pay-credit-card.pdf\n",
            " team.aac\n",
            "'TERM END-TT-Grade5-8.pdf'\n",
            " test.aac\n",
            "'the wind.aac'\n",
            " truweight.aac\n",
            " uncertainty.aac\n",
            "'Unit 1 grade 6 biology chapter structure and functions of plant .aac'\n",
            "'unit 2 chapter structure and functions of the plant parts grade .aac'\n",
            " uno.aac\n",
            "'Untitled form.gform'\n",
            "'Untitled map.gmap'\n",
            " VID_20200324_174458.mp4\n",
            " VID_20200324_180303.mp4\n",
            "'vilom shabdh.aac'\n",
            "'voice to text.aac'\n"
          ],
          "name": "stdout"
        }
      ]
    },
    {
      "cell_type": "code",
      "metadata": {
        "id": "32Wthg6YLPaH"
      },
      "source": [
        "df = pd.read_excel('CreditWorthiness.xlsx',sheet_name=2)"
      ],
      "execution_count": 23,
      "outputs": []
    },
    {
      "cell_type": "code",
      "metadata": {
        "id": "Q85O6_96k6DO",
        "outputId": "17b488e3-b0f5-4d5c-ac2e-3536d0a721e9",
        "colab": {
          "base_uri": "https://localhost:8080/",
          "height": 300
        }
      },
      "source": [
        "df.describe()"
      ],
      "execution_count": 24,
      "outputs": [
        {
          "output_type": "execute_result",
          "data": {
            "text/html": [
              "<div>\n",
              "<style scoped>\n",
              "    .dataframe tbody tr th:only-of-type {\n",
              "        vertical-align: middle;\n",
              "    }\n",
              "\n",
              "    .dataframe tbody tr th {\n",
              "        vertical-align: top;\n",
              "    }\n",
              "\n",
              "    .dataframe thead th {\n",
              "        text-align: right;\n",
              "    }\n",
              "</style>\n",
              "<table border=\"1\" class=\"dataframe\">\n",
              "  <thead>\n",
              "    <tr style=\"text-align: right;\">\n",
              "      <th></th>\n",
              "      <th>Cdur</th>\n",
              "      <th>Camt</th>\n",
              "      <th>InRate</th>\n",
              "      <th>age</th>\n",
              "      <th>NumCred</th>\n",
              "      <th>Ndepend</th>\n",
              "    </tr>\n",
              "  </thead>\n",
              "  <tbody>\n",
              "    <tr>\n",
              "      <th>count</th>\n",
              "      <td>1000.000000</td>\n",
              "      <td>1000.00000</td>\n",
              "      <td>1000.000000</td>\n",
              "      <td>1000.000000</td>\n",
              "      <td>1000.000000</td>\n",
              "      <td>1000.000000</td>\n",
              "    </tr>\n",
              "    <tr>\n",
              "      <th>mean</th>\n",
              "      <td>20.903000</td>\n",
              "      <td>32592.58000</td>\n",
              "      <td>2.973000</td>\n",
              "      <td>35.546000</td>\n",
              "      <td>1.407000</td>\n",
              "      <td>1.155000</td>\n",
              "    </tr>\n",
              "    <tr>\n",
              "      <th>std</th>\n",
              "      <td>12.058814</td>\n",
              "      <td>28227.36876</td>\n",
              "      <td>1.118715</td>\n",
              "      <td>11.375469</td>\n",
              "      <td>0.577654</td>\n",
              "      <td>0.362086</td>\n",
              "    </tr>\n",
              "    <tr>\n",
              "      <th>min</th>\n",
              "      <td>4.000000</td>\n",
              "      <td>2380.00000</td>\n",
              "      <td>1.000000</td>\n",
              "      <td>19.000000</td>\n",
              "      <td>1.000000</td>\n",
              "      <td>1.000000</td>\n",
              "    </tr>\n",
              "    <tr>\n",
              "      <th>25%</th>\n",
              "      <td>12.000000</td>\n",
              "      <td>13535.00000</td>\n",
              "      <td>2.000000</td>\n",
              "      <td>27.000000</td>\n",
              "      <td>1.000000</td>\n",
              "      <td>1.000000</td>\n",
              "    </tr>\n",
              "    <tr>\n",
              "      <th>50%</th>\n",
              "      <td>18.000000</td>\n",
              "      <td>23075.00000</td>\n",
              "      <td>3.000000</td>\n",
              "      <td>33.000000</td>\n",
              "      <td>1.000000</td>\n",
              "      <td>1.000000</td>\n",
              "    </tr>\n",
              "    <tr>\n",
              "      <th>75%</th>\n",
              "      <td>24.000000</td>\n",
              "      <td>39602.50000</td>\n",
              "      <td>4.000000</td>\n",
              "      <td>42.000000</td>\n",
              "      <td>2.000000</td>\n",
              "      <td>1.000000</td>\n",
              "    </tr>\n",
              "    <tr>\n",
              "      <th>max</th>\n",
              "      <td>72.000000</td>\n",
              "      <td>184120.00000</td>\n",
              "      <td>4.000000</td>\n",
              "      <td>75.000000</td>\n",
              "      <td>4.000000</td>\n",
              "      <td>2.000000</td>\n",
              "    </tr>\n",
              "  </tbody>\n",
              "</table>\n",
              "</div>"
            ],
            "text/plain": [
              "              Cdur          Camt  ...      NumCred      Ndepend\n",
              "count  1000.000000    1000.00000  ...  1000.000000  1000.000000\n",
              "mean     20.903000   32592.58000  ...     1.407000     1.155000\n",
              "std      12.058814   28227.36876  ...     0.577654     0.362086\n",
              "min       4.000000    2380.00000  ...     1.000000     1.000000\n",
              "25%      12.000000   13535.00000  ...     1.000000     1.000000\n",
              "50%      18.000000   23075.00000  ...     1.000000     1.000000\n",
              "75%      24.000000   39602.50000  ...     2.000000     1.000000\n",
              "max      72.000000  184120.00000  ...     4.000000     2.000000\n",
              "\n",
              "[8 rows x 6 columns]"
            ]
          },
          "metadata": {
            "tags": []
          },
          "execution_count": 24
        }
      ]
    },
    {
      "cell_type": "code",
      "metadata": {
        "id": "GpFpdsmnlUKP",
        "outputId": "61fd9327-99bb-4cef-a8d5-45ca40d56703",
        "colab": {
          "base_uri": "https://localhost:8080/",
          "height": 526
        }
      },
      "source": [
        "df.info()"
      ],
      "execution_count": 25,
      "outputs": [
        {
          "output_type": "stream",
          "text": [
            "<class 'pandas.core.frame.DataFrame'>\n",
            "RangeIndex: 1000 entries, 0 to 999\n",
            "Data columns (total 21 columns):\n",
            " #   Column       Non-Null Count  Dtype \n",
            "---  ------       --------------  ----- \n",
            " 0   Cbal         1000 non-null   object\n",
            " 1   Cdur         1000 non-null   int64 \n",
            " 2   Chist        1000 non-null   object\n",
            " 3   Cpur         1000 non-null   object\n",
            " 4   Camt         1000 non-null   int64 \n",
            " 5   Sbal         1000 non-null   object\n",
            " 6   Edur         1000 non-null   object\n",
            " 7   InRate       1000 non-null   int64 \n",
            " 8   MSG          1000 non-null   object\n",
            " 9   Oparties     1000 non-null   object\n",
            " 10  Rdur         1000 non-null   object\n",
            " 11  Prop         1000 non-null   object\n",
            " 12  age          1000 non-null   int64 \n",
            " 13  inPlans      1000 non-null   object\n",
            " 14  Htype        1000 non-null   object\n",
            " 15  NumCred      1000 non-null   int64 \n",
            " 16  JobType      1000 non-null   object\n",
            " 17  Ndepend      1000 non-null   int64 \n",
            " 18  telephone    1000 non-null   object\n",
            " 19  foreign      1000 non-null   object\n",
            " 20  creditScore  1000 non-null   object\n",
            "dtypes: int64(6), object(15)\n",
            "memory usage: 164.2+ KB\n"
          ],
          "name": "stdout"
        }
      ]
    },
    {
      "cell_type": "code",
      "metadata": {
        "id": "Q9zzp8FTLemQ",
        "outputId": "9936d375-0c26-4df0-e7d4-e6d49d5ec722",
        "colab": {
          "base_uri": "https://localhost:8080/",
          "height": 35
        }
      },
      "source": [
        "cd '/content/gdrive/My Drive'"
      ],
      "execution_count": 15,
      "outputs": [
        {
          "output_type": "stream",
          "text": [
            "/content/gdrive/My Drive\n"
          ],
          "name": "stdout"
        }
      ]
    }
  ]
}